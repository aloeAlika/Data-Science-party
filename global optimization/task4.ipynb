{
 "cells": [
  {
   "cell_type": "code",
   "execution_count": 8,
   "metadata": {},
   "outputs": [
    {
     "name": "stdout",
     "output_type": "stream",
     "text": [
      "     fun: array([-11.89889467])\n",
      "     jac: array([ -1.77635684e-07])\n",
      " message: 'Optimization terminated successfully.'\n",
      "    nfev: 98\n",
      "     nit: 5\n",
      " success: True\n",
      "       x: array([ 25.88019278])\n"
     ]
    },
    {
     "data": {
      "image/png": "[encoded data removed]",
      "text/plain": [
       "<matplotlib.figure.Figure at 0x6ffe210>"
      ]
     },
     "metadata": {},
     "output_type": "display_data"
    }
   ],
   "source": [
    "import numpy as np\n",
    "from scipy import optimize\n",
    "import matplotlib.pyplot as plt\n",
    "\n",
    "#f(x) = sin(x / 5) * exp(x / 10) + 5 * exp(-x / 2)\n",
    "\n",
    "def func(x):\n",
    "    return np.sin(x/5.)*np.exp(x/10.)+5*np.exp((-1)*x/2.)\n",
    "\n",
    "#Теперь попробуем применить к той же функции f(x) метод глобальной оптимизации — дифференциальную эволюцию.\n",
    "#Запустите поиск минимума функции f(x) с помощью дифференциальной эволюции на промежутке [1, 30].\n",
    "\n",
    "bounds = [(1., 30.)]\n",
    "\n",
    "a = optimize.differential_evolution(func, bounds)\n",
    "print(a)\n",
    "\n",
    "y = a.fun\n",
    "w = a.x \n",
    "\n",
    "x = np.linspace(1.,30., num = 100)\n",
    "plt.plot(x, func(x), 'r')\n",
    "plt.scatter(w,y)\n",
    "plt.show()\n"
   ]
  },
  {
   "cell_type": "code",
   "execution_count": 16,
   "metadata": {},
   "outputs": [
    {
     "name": "stdout",
     "output_type": "stream",
     "text": [
      "-11.9\n"
     ]
    }
   ],
   "source": [
    "a = round(y[0],2)\n",
    "print(a)\n",
    "\n",
    "f = open('answer.txt', 'w')\n",
    "f.write(str(a))\n",
    "f.close()\n",
    "\n",
    "#Заметьте, дифференциальная эволюция справилась с задачей поиска глобального минимума на отрезке, \n",
    "#т.к. по своему устройству она предполагает борьбу с попаданием в локальные минимумы."
   ]
  }
 ],
 "metadata": {
  "kernelspec": {
   "display_name": "Python 3",
   "language": "python",
   "name": "python3"
  },
  "language_info": {
   "codemirror_mode": {
    "name": "ipython",
    "version": 3
   },
   "file_extension": ".py",
   "mimetype": "text/x-python",
   "name": "python",
   "nbconvert_exporter": "python",
   "pygments_lexer": "ipython3",
   "version": "3.6.1"
  }
 },
 "nbformat": 4,
 "nbformat_minor": 2
}
