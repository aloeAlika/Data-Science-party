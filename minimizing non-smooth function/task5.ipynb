{
 "cells": [
  {
   "cell_type": "code",
   "execution_count": 24,
   "metadata": {},
   "outputs": [
    {
     "name": "stdout",
     "output_type": "stream",
     "text": [
      "      fun: array([-5])\n",
      " hess_inv: array([[1]])\n",
      "      jac: array([ 0.])\n",
      "  message: 'Optimization terminated successfully.'\n",
      "     nfev: 3\n",
      "      nit: 0\n",
      "     njev: 1\n",
      "   status: 0\n",
      "  success: True\n",
      "        x: array([ 30.])\n"
     ]
    },
    {
     "data": {
      "image/png": "[encoded data removed]",
      "text/plain": [
       "<matplotlib.figure.Figure at 0x133f330>"
      ]
     },
     "metadata": {},
     "output_type": "display_data"
    }
   ],
   "source": [
    "import numpy as np\n",
    "from scipy.optimize import minimize\n",
    "import matplotlib.pyplot as plt\n",
    "from scipy import optimize\n",
    "\n",
    "#f(x) = sin(x / 5) * exp(x / 10) + 5 * exp(-x / 2)\n",
    "\n",
    "def func(x):\n",
    "    return np.sin(x/5.)*np.exp(x/10.)+5*np.exp((-1)*x/2.)\n",
    "\n",
    "#Теперь рассмотрим функцию h(x) = int(f(x)) на том же отрезке [1, 30], \n",
    "#т.е. теперь каждое значение f(x) приводится к типу int и функция принимает только целые значения.\n",
    "\n",
    "def h(x):\n",
    "    return np.int(func(x))\n",
    "\n",
    "f2 = np.vectorize(h)\n",
    "\n",
    "#Попробуйте найти минимум функции h(x) с помощью BFGS, взяв в качестве начального приближения x=30. \n",
    "\n",
    "x0 = 30.\n",
    "m = minimize(f2, x0, method='BFGS')\n",
    "print(m)\n",
    "x = np.arange(1., 30., 0.1)\n",
    "plt.plot(x, f2(x), 'r')\n",
    "plt.scatter(m.x, f2(m.x))\n",
    "plt.show()\n",
    "\n",
    "#Такая функция будет негладкой и даже разрывной, а ее график будет иметь ступенчатый вид"
   ]
  },
  {
   "cell_type": "code",
   "execution_count": 25,
   "metadata": {},
   "outputs": [],
   "source": [
    "f = open('answer.txt', 'w')\n",
    "f.write(str(m.fun[0])+' ')\n",
    "f.close()"
   ]
  },
  {
   "cell_type": "code",
   "execution_count": 26,
   "metadata": {},
   "outputs": [
    {
     "name": "stdout",
     "output_type": "stream",
     "text": [
      "-11.0\n"
     ]
    }
   ],
   "source": [
    "#Теперь попробуйте найти минимум h(x) на отрезке [1, 30] с помощью дифференциальной эволюции.\n",
    "\n",
    "bounds = [(1., 30.)]\n",
    "m = optimize.differential_evolution(f2, bounds)\n",
    "print(m.fun)\n",
    "f = open('answer.txt', 'a')\n",
    "f.write(str(m.fun))\n",
    "f.close()\n",
    "\n",
    "#Обратите внимание на то, что полученные ответы различаются. \n",
    "#Это ожидаемый результат, ведь BFGS использует градиент (в одномерном случае – производную) \n",
    "#и явно не пригоден для минимизации рассмотренной нами разрывной функции."
   ]
  }
 ],
 "metadata": {
  "kernelspec": {
   "display_name": "Python 3",
   "language": "python",
   "name": "python3"
  },
  "language_info": {
   "codemirror_mode": {
    "name": "ipython",
    "version": 3
   },
   "file_extension": ".py",
   "mimetype": "text/x-python",
   "name": "python",
   "nbconvert_exporter": "python",
   "pygments_lexer": "ipython3",
   "version": "3.6.1"
  }
 },
 "nbformat": 4,
 "nbformat_minor": 2
}
